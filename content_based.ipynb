{
 "cells": [
  {
   "cell_type": "markdown",
   "metadata": {},
   "source": [
    "### Importing libraries"
   ]
  },
  {
   "cell_type": "code",
   "execution_count": 1,
   "metadata": {},
   "outputs": [],
   "source": [
    "%reset"
   ]
  },
  {
   "cell_type": "code",
   "execution_count": 4,
   "metadata": {},
   "outputs": [],
   "source": [
    "import pandas as pd\n",
    "from sklearn.cluster import KMeans\n",
    "from sklearn import metrics\n",
    "from sklearn.feature_extraction.text import TfidfVectorizer\n",
    "import numpy as np\n",
    "import matplotlib.pyplot as plt\n",
    "from collections import defaultdict\n",
    "import json\n",
    "import difflib\n",
    "from sklearn.metrics.pairwise import cosine_similarity,cosine_distances"
   ]
  },
  {
   "cell_type": "markdown",
   "metadata": {},
   "source": [
    "### Preprocessing"
   ]
  },
  {
   "cell_type": "code",
   "execution_count": 5,
   "metadata": {},
   "outputs": [
    {
     "data": {
      "text/plain": [
       "(                                               title  \\\n",
       " 0                            بسم اللّه الرحمن الرحيم   \n",
       " 1        بتمويل كويتي.. افتتاح مشروع للمياه في اليمن   \n",
       " 2                                                  \"   \n",
       " 3  سمو نائب الأمير وولي العهد يهنئ الملك تشارلز ا...   \n",
       " 4  سمو الأمير يهنئ تشارلز الثالث بمناسبة إعتلائه ...   \n",
       " \n",
       "                                             contents  \\\n",
       " 0                                                      \n",
       " 1  \\\\n                                    (كونا) ...   \n",
       " 2                                            alwatan   \n",
       " 3  (كونا) - بعث سمو نائب الأمير وولي العهد الشيخ ...   \n",
       " 4  (كونا) - بعث سمو أمير البلاد الشيخ نواف الأحمد...   \n",
       " \n",
       "                            category author_name  \n",
       " 0  government performance follow up  local news  \n",
       " 1                               NaN         NaN  \n",
       " 2                        local news         NaN  \n",
       " 3                           alqabas  local news  \n",
       " 4                           alqabas  local news  ,\n",
       " (18714, 4))"
      ]
     },
     "execution_count": 5,
     "metadata": {},
     "output_type": "execute_result"
    }
   ],
   "source": [
    "dataset=pd.read_csv(\"arabic_data.csv\",on_bad_lines='skip')\n",
    "dataset.columns=[\"title\",\"contents\",\"category\",\"author_name\"]\n",
    "dataset.head(5),dataset.shape"
   ]
  },
  {
   "cell_type": "code",
   "execution_count": 3,
   "metadata": {},
   "outputs": [
    {
     "name": "stdout",
     "output_type": "stream",
     "text": [
      "<class 'pandas.core.frame.DataFrame'>\n",
      "RangeIndex: 18714 entries, 0 to 18713\n",
      "Data columns (total 4 columns):\n",
      " #   Column       Non-Null Count  Dtype \n",
      "---  ------       --------------  ----- \n",
      " 0   title        18712 non-null  object\n",
      " 1   contents     14419 non-null  object\n",
      " 2   category     17706 non-null  object\n",
      " 3   author_name  17704 non-null  object\n",
      "dtypes: object(4)\n",
      "memory usage: 584.9+ KB\n"
     ]
    }
   ],
   "source": [
    "dataset.info()"
   ]
  },
  {
   "cell_type": "code",
   "execution_count": 6,
   "metadata": {},
   "outputs": [],
   "source": [
    "dataset.dropna(axis=0,inplace=True)"
   ]
  },
  {
   "cell_type": "code",
   "execution_count": 7,
   "metadata": {},
   "outputs": [
    {
     "data": {
      "text/html": [
       "<div>\n",
       "<style scoped>\n",
       "    .dataframe tbody tr th:only-of-type {\n",
       "        vertical-align: middle;\n",
       "    }\n",
       "\n",
       "    .dataframe tbody tr th {\n",
       "        vertical-align: top;\n",
       "    }\n",
       "\n",
       "    .dataframe thead th {\n",
       "        text-align: right;\n",
       "    }\n",
       "</style>\n",
       "<table border=\"1\" class=\"dataframe\">\n",
       "  <thead>\n",
       "    <tr style=\"text-align: right;\">\n",
       "      <th></th>\n",
       "      <th>title</th>\n",
       "      <th>contents</th>\n",
       "      <th>category</th>\n",
       "      <th>author_name</th>\n",
       "    </tr>\n",
       "  </thead>\n",
       "  <tbody>\n",
       "    <tr>\n",
       "      <th>0</th>\n",
       "      <td>بسم اللّه الرحمن الرحيم</td>\n",
       "      <td></td>\n",
       "      <td>government performance follow up</td>\n",
       "      <td>local news</td>\n",
       "    </tr>\n",
       "    <tr>\n",
       "      <th>3</th>\n",
       "      <td>سمو نائب الأمير وولي العهد يهنئ الملك تشارلز ا...</td>\n",
       "      <td>(كونا) - بعث سمو نائب الأمير وولي العهد الشيخ ...</td>\n",
       "      <td>alqabas</td>\n",
       "      <td>local news</td>\n",
       "    </tr>\n",
       "    <tr>\n",
       "      <th>4</th>\n",
       "      <td>سمو الأمير يهنئ تشارلز الثالث بمناسبة إعتلائه ...</td>\n",
       "      <td>(كونا) - بعث سمو أمير البلاد الشيخ نواف الأحمد...</td>\n",
       "      <td>alqabas</td>\n",
       "      <td>local news</td>\n",
       "    </tr>\n",
       "    <tr>\n",
       "      <th>5</th>\n",
       "      <td>مستشفى الطب الطبيعي والتأهيل يحتفل باليوم العا...</td>\n",
       "      <td>احتفل مستشفى الطب الطبيعي والتأهيل باليوم العا...</td>\n",
       "      <td>alqabas</td>\n",
       "      <td>local news</td>\n",
       "    </tr>\n",
       "    <tr>\n",
       "      <th>6</th>\n",
       "      <td>«الهلال الأحمر» تبدأ حملة جمع تبرعات لمتضرري ا...</td>\n",
       "      <td>بدأت جمعية الهلال الأحمر اليوم السبت، حملة جمع...</td>\n",
       "      <td>alqabas</td>\n",
       "      <td>local news</td>\n",
       "    </tr>\n",
       "    <tr>\n",
       "      <th>...</th>\n",
       "      <td>...</td>\n",
       "      <td>...</td>\n",
       "      <td>...</td>\n",
       "      <td>...</td>\n",
       "    </tr>\n",
       "    <tr>\n",
       "      <th>18709</th>\n",
       "      <td>مستقبل نرعاه بالمعرفة</td>\n",
       "      <td>تستند مؤسسة الكويت للتقدم العلمي إلى ثلاثة محا...</td>\n",
       "      <td>\\N</td>\n",
       "      <td>Sciences news</td>\n",
       "    </tr>\n",
       "    <tr>\n",
       "      <th>18710</th>\n",
       "      <td>لمزيد من المعلومات عن البرنامج التدريبي يرجى ا...</td>\n",
       "      <td>\\N</td>\n",
       "      <td>\\N</td>\n",
       "      <td>Sciences news</td>\n",
       "    </tr>\n",
       "    <tr>\n",
       "      <th>18711</th>\n",
       "      <td>تعلن مؤسسة الكويت للتقدم العلمي عن برنامج تدري...</td>\n",
       "      <td>\\N</td>\n",
       "      <td>\\N</td>\n",
       "      <td>Sciences news</td>\n",
       "    </tr>\n",
       "    <tr>\n",
       "      <th>18712</th>\n",
       "      <td>الأبحاث في مجال الوقود الأحفوري (التقليدي) وغي...</td>\n",
       "      <td>\\N</td>\n",
       "      <td>\\N</td>\n",
       "      <td>Sciences news</td>\n",
       "    </tr>\n",
       "    <tr>\n",
       "      <th>18713</th>\n",
       "      <td>أنجز المعهد مشروع \\التنبؤ بتأثير التغيرات المن...</td>\n",
       "      <td>\\N</td>\n",
       "      <td>\\N</td>\n",
       "      <td>Sciences news</td>\n",
       "    </tr>\n",
       "  </tbody>\n",
       "</table>\n",
       "<p>13897 rows × 4 columns</p>\n",
       "</div>"
      ],
      "text/plain": [
       "                                                   title  \\\n",
       "0                                بسم اللّه الرحمن الرحيم   \n",
       "3      سمو نائب الأمير وولي العهد يهنئ الملك تشارلز ا...   \n",
       "4      سمو الأمير يهنئ تشارلز الثالث بمناسبة إعتلائه ...   \n",
       "5      مستشفى الطب الطبيعي والتأهيل يحتفل باليوم العا...   \n",
       "6      «الهلال الأحمر» تبدأ حملة جمع تبرعات لمتضرري ا...   \n",
       "...                                                  ...   \n",
       "18709                              مستقبل نرعاه بالمعرفة   \n",
       "18710  لمزيد من المعلومات عن البرنامج التدريبي يرجى ا...   \n",
       "18711  تعلن مؤسسة الكويت للتقدم العلمي عن برنامج تدري...   \n",
       "18712  الأبحاث في مجال الوقود الأحفوري (التقليدي) وغي...   \n",
       "18713  أنجز المعهد مشروع \\التنبؤ بتأثير التغيرات المن...   \n",
       "\n",
       "                                                contents  \\\n",
       "0                                                          \n",
       "3      (كونا) - بعث سمو نائب الأمير وولي العهد الشيخ ...   \n",
       "4      (كونا) - بعث سمو أمير البلاد الشيخ نواف الأحمد...   \n",
       "5      احتفل مستشفى الطب الطبيعي والتأهيل باليوم العا...   \n",
       "6      بدأت جمعية الهلال الأحمر اليوم السبت، حملة جمع...   \n",
       "...                                                  ...   \n",
       "18709  تستند مؤسسة الكويت للتقدم العلمي إلى ثلاثة محا...   \n",
       "18710                                                 \\N   \n",
       "18711                                                 \\N   \n",
       "18712                                                 \\N   \n",
       "18713                                                 \\N   \n",
       "\n",
       "                               category    author_name  \n",
       "0      government performance follow up     local news  \n",
       "3                               alqabas     local news  \n",
       "4                               alqabas     local news  \n",
       "5                               alqabas     local news  \n",
       "6                               alqabas     local news  \n",
       "...                                 ...            ...  \n",
       "18709                                \\N  Sciences news  \n",
       "18710                                \\N  Sciences news  \n",
       "18711                                \\N  Sciences news  \n",
       "18712                                \\N  Sciences news  \n",
       "18713                                \\N  Sciences news  \n",
       "\n",
       "[13897 rows x 4 columns]"
      ]
     },
     "execution_count": 7,
     "metadata": {},
     "output_type": "execute_result"
    }
   ],
   "source": [
    "dataset"
   ]
  },
  {
   "cell_type": "code",
   "execution_count": 8,
   "metadata": {},
   "outputs": [
    {
     "data": {
      "text/plain": [
       "54       \\N\n",
       "81       \\N\n",
       "102      \\N\n",
       "111      \\N\n",
       "120      \\N\n",
       "         ..\n",
       "18709    \\N\n",
       "18710    \\N\n",
       "18711    \\N\n",
       "18712    \\N\n",
       "18713    \\N\n",
       "Name: category, Length: 3064, dtype: object"
      ]
     },
     "execution_count": 8,
     "metadata": {},
     "output_type": "execute_result"
    }
   ],
   "source": [
    "dataset.loc[dataset[\"category\"]==r\"\\N\"][\"category\"]"
   ]
  },
  {
   "cell_type": "code",
   "execution_count": 9,
   "metadata": {},
   "outputs": [
    {
     "name": "stdout",
     "output_type": "stream",
     "text": [
      "Int64Index([], dtype='int64')\n"
     ]
    }
   ],
   "source": [
    "empty_contents=dataset.loc[dataset[\"contents\"]==r\"\\N\"].index\n",
    "empty_title=dataset.loc[dataset[\"title\"]==r\"\\N\"].index\n",
    "print(empty_title)"
   ]
  },
  {
   "cell_type": "code",
   "execution_count": 10,
   "metadata": {},
   "outputs": [],
   "source": [
    "# removing all special characters \n",
    "import re\n",
    "exp='[\\u0627-\\u064aA-Za-z]+' #re to get arabic and english , i had eliminated numbers and special characters because they dont have much influence \n",
    "dataset[\"contents\"]=dataset['contents'].apply(lambda data : \" \".join(re.findall(exp,data)))\n",
    "dataset[\"category\"]=dataset[\"category\"].apply(lambda data : \" \".join(re.findall(exp,data)))\n",
    "dataset[\"title\"]=dataset[\"title\"].apply(lambda data : \" \".join(re.findall(exp,data)))"
   ]
  },
  {
   "cell_type": "code",
   "execution_count": 11,
   "metadata": {},
   "outputs": [
    {
     "data": {
      "text/html": [
       "<div>\n",
       "<style scoped>\n",
       "    .dataframe tbody tr th:only-of-type {\n",
       "        vertical-align: middle;\n",
       "    }\n",
       "\n",
       "    .dataframe tbody tr th {\n",
       "        vertical-align: top;\n",
       "    }\n",
       "\n",
       "    .dataframe thead th {\n",
       "        text-align: right;\n",
       "    }\n",
       "</style>\n",
       "<table border=\"1\" class=\"dataframe\">\n",
       "  <thead>\n",
       "    <tr style=\"text-align: right;\">\n",
       "      <th></th>\n",
       "      <th>title</th>\n",
       "      <th>contents</th>\n",
       "      <th>category</th>\n",
       "      <th>author_name</th>\n",
       "    </tr>\n",
       "  </thead>\n",
       "  <tbody>\n",
       "  </tbody>\n",
       "</table>\n",
       "</div>"
      ],
      "text/plain": [
       "Empty DataFrame\n",
       "Columns: [title, contents, category, author_name]\n",
       "Index: []"
      ]
     },
     "execution_count": 11,
     "metadata": {},
     "output_type": "execute_result"
    }
   ],
   "source": [
    "dataset.loc[dataset[\"contents\"]==r\"\\N\"]"
   ]
  },
  {
   "cell_type": "code",
   "execution_count": 12,
   "metadata": {},
   "outputs": [
    {
     "data": {
      "text/html": [
       "<div>\n",
       "<style scoped>\n",
       "    .dataframe tbody tr th:only-of-type {\n",
       "        vertical-align: middle;\n",
       "    }\n",
       "\n",
       "    .dataframe tbody tr th {\n",
       "        vertical-align: top;\n",
       "    }\n",
       "\n",
       "    .dataframe thead th {\n",
       "        text-align: right;\n",
       "    }\n",
       "</style>\n",
       "<table border=\"1\" class=\"dataframe\">\n",
       "  <thead>\n",
       "    <tr style=\"text-align: right;\">\n",
       "      <th></th>\n",
       "      <th>title</th>\n",
       "      <th>contents</th>\n",
       "      <th>category</th>\n",
       "      <th>author_name</th>\n",
       "    </tr>\n",
       "  </thead>\n",
       "  <tbody>\n",
       "  </tbody>\n",
       "</table>\n",
       "</div>"
      ],
      "text/plain": [
       "Empty DataFrame\n",
       "Columns: [title, contents, category, author_name]\n",
       "Index: []"
      ]
     },
     "execution_count": 12,
     "metadata": {},
     "output_type": "execute_result"
    }
   ],
   "source": [
    "dataset.loc[dataset[\"contents\"]==r\"\\N\"]"
   ]
  },
  {
   "cell_type": "code",
   "execution_count": 13,
   "metadata": {},
   "outputs": [
    {
     "name": "stdout",
     "output_type": "stream",
     "text": [
      "<class 'pandas.core.frame.DataFrame'>\n",
      "Int64Index: 13897 entries, 0 to 18713\n",
      "Data columns (total 4 columns):\n",
      " #   Column       Non-Null Count  Dtype \n",
      "---  ------       --------------  ----- \n",
      " 0   title        13897 non-null  object\n",
      " 1   contents     13897 non-null  object\n",
      " 2   category     13897 non-null  object\n",
      " 3   author_name  13897 non-null  object\n",
      "dtypes: object(4)\n",
      "memory usage: 542.9+ KB\n"
     ]
    }
   ],
   "source": [
    "dataset.info()"
   ]
  },
  {
   "cell_type": "code",
   "execution_count": 14,
   "metadata": {},
   "outputs": [],
   "source": [
    "dataset.reset_index(inplace=True)"
   ]
  },
  {
   "cell_type": "code",
   "execution_count": 15,
   "metadata": {},
   "outputs": [],
   "source": [
    "dataset.drop(\"index\",axis=1,inplace=True)"
   ]
  },
  {
   "cell_type": "code",
   "execution_count": 14,
   "metadata": {},
   "outputs": [
    {
     "data": {
      "text/html": [
       "<div>\n",
       "<style scoped>\n",
       "    .dataframe tbody tr th:only-of-type {\n",
       "        vertical-align: middle;\n",
       "    }\n",
       "\n",
       "    .dataframe tbody tr th {\n",
       "        vertical-align: top;\n",
       "    }\n",
       "\n",
       "    .dataframe thead th {\n",
       "        text-align: right;\n",
       "    }\n",
       "</style>\n",
       "<table border=\"1\" class=\"dataframe\">\n",
       "  <thead>\n",
       "    <tr style=\"text-align: right;\">\n",
       "      <th></th>\n",
       "      <th>title</th>\n",
       "      <th>contents</th>\n",
       "      <th>category</th>\n",
       "      <th>author_name</th>\n",
       "    </tr>\n",
       "  </thead>\n",
       "  <tbody>\n",
       "    <tr>\n",
       "      <th>0</th>\n",
       "      <td>بسم الل ه الرحمن الرحيم</td>\n",
       "      <td></td>\n",
       "      <td>government performance follow up</td>\n",
       "      <td>local news</td>\n",
       "    </tr>\n",
       "    <tr>\n",
       "      <th>1</th>\n",
       "      <td>سمو نا ب ال مير وولي العهد يهن الملك تشارلز ال...</td>\n",
       "      <td>كونا بعث سمو نا ب ال مير وولي العهد الشيخ مشعل...</td>\n",
       "      <td>alqabas</td>\n",
       "      <td>local news</td>\n",
       "    </tr>\n",
       "    <tr>\n",
       "      <th>2</th>\n",
       "      <td>سمو ال مير يهن تشارلز الثالث بمناسبة عتلا ه ال...</td>\n",
       "      <td>كونا بعث سمو مير البلاد الشيخ نواف ال حمد ببرق...</td>\n",
       "      <td>alqabas</td>\n",
       "      <td>local news</td>\n",
       "    </tr>\n",
       "    <tr>\n",
       "      <th>3</th>\n",
       "      <td>مستشفى الطب الطبيعي والت هيل يحتفل باليوم العا...</td>\n",
       "      <td>احتفل مستشفى الطب الطبيعي والت هيل باليوم العا...</td>\n",
       "      <td>alqabas</td>\n",
       "      <td>local news</td>\n",
       "    </tr>\n",
       "    <tr>\n",
       "      <th>4</th>\n",
       "      <td>الهلال ال حمر تبد حملة جمع تبرعات لمتضرري الصو...</td>\n",
       "      <td>بد ت جمعية الهلال ال حمر اليوم السبت حملة جمع ...</td>\n",
       "      <td>alqabas</td>\n",
       "      <td>local news</td>\n",
       "    </tr>\n",
       "  </tbody>\n",
       "</table>\n",
       "</div>"
      ],
      "text/plain": [
       "                                               title  \\\n",
       "0                            بسم الل ه الرحمن الرحيم   \n",
       "1  سمو نا ب ال مير وولي العهد يهن الملك تشارلز ال...   \n",
       "2  سمو ال مير يهن تشارلز الثالث بمناسبة عتلا ه ال...   \n",
       "3  مستشفى الطب الطبيعي والت هيل يحتفل باليوم العا...   \n",
       "4  الهلال ال حمر تبد حملة جمع تبرعات لمتضرري الصو...   \n",
       "\n",
       "                                            contents  \\\n",
       "0                                                      \n",
       "1  كونا بعث سمو نا ب ال مير وولي العهد الشيخ مشعل...   \n",
       "2  كونا بعث سمو مير البلاد الشيخ نواف ال حمد ببرق...   \n",
       "3  احتفل مستشفى الطب الطبيعي والت هيل باليوم العا...   \n",
       "4  بد ت جمعية الهلال ال حمر اليوم السبت حملة جمع ...   \n",
       "\n",
       "                           category author_name  \n",
       "0  government performance follow up  local news  \n",
       "1                           alqabas  local news  \n",
       "2                           alqabas  local news  \n",
       "3                           alqabas  local news  \n",
       "4                           alqabas  local news  "
      ]
     },
     "execution_count": 14,
     "metadata": {},
     "output_type": "execute_result"
    }
   ],
   "source": [
    "dataset.head(5)"
   ]
  },
  {
   "cell_type": "code",
   "execution_count": 16,
   "metadata": {},
   "outputs": [
    {
     "data": {
      "text/plain": [
       "''"
      ]
     },
     "execution_count": 16,
     "metadata": {},
     "output_type": "execute_result"
    }
   ],
   "source": [
    "dataset.iloc[0][\"contents\"]"
   ]
  },
  {
   "cell_type": "code",
   "execution_count": 16,
   "metadata": {},
   "outputs": [],
   "source": [
    "#still some empty strings are there --- remove"
   ]
  },
  {
   "cell_type": "code",
   "execution_count": 17,
   "metadata": {},
   "outputs": [],
   "source": [
    "empty_str_contents=dataset.loc[dataset[\"contents\"]==r\"\"].index\n",
    "empty_str_title=dataset.loc[dataset[\"title\"]==r\"\"].index\n",
    "empty_str_category=dataset.loc[dataset[\"category\"]==\"\"].index"
   ]
  },
  {
   "cell_type": "code",
   "execution_count": 18,
   "metadata": {},
   "outputs": [
    {
     "data": {
      "text/plain": [
       "(Int64Index([    0,    30,   111,   168,   193,   262,  3617,  3619,  3632,\n",
       "              3795,  3815,  3828,  3903,  3971,  3976,  4011,  4050,  4051,\n",
       "              4071,  4095,  4186,  4451,  4687,  4702,  4720,  4727,  4735,\n",
       "              4737,  4740,  4742,  4769,  4773,  4781,  4793,  4801,  4810,\n",
       "              4813,  4816,  4836,  4853,  6024,  6072,  6081,  7071,  7086,\n",
       "              7138,  7148,  7171,  7266,  7286,  7326,  7458,  7462,  7480,\n",
       "              7499,  7502,  7506,  7507,  8917,  9063,  9073,  9395,  9786,\n",
       "              9792, 12744, 12993, 13198, 13201, 13205, 13599, 13677, 13678,\n",
       "             13706, 13722, 13753, 13763, 13766],\n",
       "            dtype='int64'),)"
      ]
     },
     "execution_count": 18,
     "metadata": {},
     "output_type": "execute_result"
    }
   ],
   "source": [
    "# empty_str_category, \n",
    "empty_str_contents,\n",
    "# empty_str_title"
   ]
  },
  {
   "cell_type": "code",
   "execution_count": 19,
   "metadata": {},
   "outputs": [],
   "source": [
    "dataset.drop(list(empty_str_contents),axis=0,inplace=True)"
   ]
  },
  {
   "cell_type": "code",
   "execution_count": 20,
   "metadata": {},
   "outputs": [
    {
     "data": {
      "text/plain": [
       "Int64Index([], dtype='int64')"
      ]
     },
     "execution_count": 20,
     "metadata": {},
     "output_type": "execute_result"
    }
   ],
   "source": [
    "empty_str_contents=dataset.loc[dataset[\"contents\"]==r\"\"].index\n",
    "empty_str_contents"
   ]
  },
  {
   "cell_type": "code",
   "execution_count": 21,
   "metadata": {},
   "outputs": [],
   "source": [
    "dataset.reset_index(inplace=True)"
   ]
  },
  {
   "cell_type": "code",
   "execution_count": 22,
   "metadata": {},
   "outputs": [],
   "source": [
    "dataset.drop(\"index\",axis=1,inplace=True)"
   ]
  },
  {
   "cell_type": "code",
   "execution_count": 23,
   "metadata": {},
   "outputs": [
    {
     "data": {
      "text/html": [
       "<div>\n",
       "<style scoped>\n",
       "    .dataframe tbody tr th:only-of-type {\n",
       "        vertical-align: middle;\n",
       "    }\n",
       "\n",
       "    .dataframe tbody tr th {\n",
       "        vertical-align: top;\n",
       "    }\n",
       "\n",
       "    .dataframe thead th {\n",
       "        text-align: right;\n",
       "    }\n",
       "</style>\n",
       "<table border=\"1\" class=\"dataframe\">\n",
       "  <thead>\n",
       "    <tr style=\"text-align: right;\">\n",
       "      <th></th>\n",
       "      <th>title</th>\n",
       "      <th>contents</th>\n",
       "      <th>category</th>\n",
       "      <th>author_name</th>\n",
       "    </tr>\n",
       "  </thead>\n",
       "  <tbody>\n",
       "    <tr>\n",
       "      <th>0</th>\n",
       "      <td>سمو نا ب ال مير وولي العهد يهن الملك تشارلز ال...</td>\n",
       "      <td>كونا بعث سمو نا ب ال مير وولي العهد الشيخ مشعل...</td>\n",
       "      <td>alqabas</td>\n",
       "      <td>local news</td>\n",
       "    </tr>\n",
       "    <tr>\n",
       "      <th>1</th>\n",
       "      <td>سمو ال مير يهن تشارلز الثالث بمناسبة عتلا ه ال...</td>\n",
       "      <td>كونا بعث سمو مير البلاد الشيخ نواف ال حمد ببرق...</td>\n",
       "      <td>alqabas</td>\n",
       "      <td>local news</td>\n",
       "    </tr>\n",
       "    <tr>\n",
       "      <th>2</th>\n",
       "      <td>مستشفى الطب الطبيعي والت هيل يحتفل باليوم العا...</td>\n",
       "      <td>احتفل مستشفى الطب الطبيعي والت هيل باليوم العا...</td>\n",
       "      <td>alqabas</td>\n",
       "      <td>local news</td>\n",
       "    </tr>\n",
       "    <tr>\n",
       "      <th>3</th>\n",
       "      <td>الهلال ال حمر تبد حملة جمع تبرعات لمتضرري الصو...</td>\n",
       "      <td>بد ت جمعية الهلال ال حمر اليوم السبت حملة جمع ...</td>\n",
       "      <td>alqabas</td>\n",
       "      <td>local news</td>\n",
       "    </tr>\n",
       "    <tr>\n",
       "      <th>4</th>\n",
       "      <td>السفارة البريطانية رفع العلم من ظهر اليوم حتى ...</td>\n",
       "      <td>مي السكري علنت السفارة البريطانية لدى البلاد ن...</td>\n",
       "      <td>alqabas</td>\n",
       "      <td>local news</td>\n",
       "    </tr>\n",
       "  </tbody>\n",
       "</table>\n",
       "</div>"
      ],
      "text/plain": [
       "                                               title  \\\n",
       "0  سمو نا ب ال مير وولي العهد يهن الملك تشارلز ال...   \n",
       "1  سمو ال مير يهن تشارلز الثالث بمناسبة عتلا ه ال...   \n",
       "2  مستشفى الطب الطبيعي والت هيل يحتفل باليوم العا...   \n",
       "3  الهلال ال حمر تبد حملة جمع تبرعات لمتضرري الصو...   \n",
       "4  السفارة البريطانية رفع العلم من ظهر اليوم حتى ...   \n",
       "\n",
       "                                            contents category author_name  \n",
       "0  كونا بعث سمو نا ب ال مير وولي العهد الشيخ مشعل...  alqabas  local news  \n",
       "1  كونا بعث سمو مير البلاد الشيخ نواف ال حمد ببرق...  alqabas  local news  \n",
       "2  احتفل مستشفى الطب الطبيعي والت هيل باليوم العا...  alqabas  local news  \n",
       "3  بد ت جمعية الهلال ال حمر اليوم السبت حملة جمع ...  alqabas  local news  \n",
       "4  مي السكري علنت السفارة البريطانية لدى البلاد ن...  alqabas  local news  "
      ]
     },
     "execution_count": 23,
     "metadata": {},
     "output_type": "execute_result"
    }
   ],
   "source": [
    "dataset.head(5)"
   ]
  },
  {
   "cell_type": "code",
   "execution_count": 24,
   "metadata": {},
   "outputs": [
    {
     "data": {
      "text/plain": [
       "(13820, 4)"
      ]
     },
     "execution_count": 24,
     "metadata": {},
     "output_type": "execute_result"
    }
   ],
   "source": [
    "dataset.shape"
   ]
  },
  {
   "cell_type": "markdown",
   "metadata": {},
   "source": [
    "# keyword generation using YAKE\n",
    "keywords are generated in combination of title and contents"
   ]
  },
  {
   "cell_type": "code",
   "execution_count": 25,
   "metadata": {},
   "outputs": [],
   "source": [
    "dataset[\"keywords\"]=dataset[\"title\"]+\" \"+dataset[\"contents\"]"
   ]
  },
  {
   "cell_type": "code",
   "execution_count": 26,
   "metadata": {},
   "outputs": [
    {
     "data": {
      "text/html": [
       "<div>\n",
       "<style scoped>\n",
       "    .dataframe tbody tr th:only-of-type {\n",
       "        vertical-align: middle;\n",
       "    }\n",
       "\n",
       "    .dataframe tbody tr th {\n",
       "        vertical-align: top;\n",
       "    }\n",
       "\n",
       "    .dataframe thead th {\n",
       "        text-align: right;\n",
       "    }\n",
       "</style>\n",
       "<table border=\"1\" class=\"dataframe\">\n",
       "  <thead>\n",
       "    <tr style=\"text-align: right;\">\n",
       "      <th></th>\n",
       "      <th>title</th>\n",
       "      <th>contents</th>\n",
       "      <th>category</th>\n",
       "      <th>author_name</th>\n",
       "      <th>keywords</th>\n",
       "    </tr>\n",
       "  </thead>\n",
       "  <tbody>\n",
       "    <tr>\n",
       "      <th>0</th>\n",
       "      <td>سمو نا ب ال مير وولي العهد يهن الملك تشارلز ال...</td>\n",
       "      <td>كونا بعث سمو نا ب ال مير وولي العهد الشيخ مشعل...</td>\n",
       "      <td>alqabas</td>\n",
       "      <td>local news</td>\n",
       "      <td>سمو نا ب ال مير وولي العهد يهن الملك تشارلز ال...</td>\n",
       "    </tr>\n",
       "    <tr>\n",
       "      <th>1</th>\n",
       "      <td>سمو ال مير يهن تشارلز الثالث بمناسبة عتلا ه ال...</td>\n",
       "      <td>كونا بعث سمو مير البلاد الشيخ نواف ال حمد ببرق...</td>\n",
       "      <td>alqabas</td>\n",
       "      <td>local news</td>\n",
       "      <td>سمو ال مير يهن تشارلز الثالث بمناسبة عتلا ه ال...</td>\n",
       "    </tr>\n",
       "    <tr>\n",
       "      <th>2</th>\n",
       "      <td>مستشفى الطب الطبيعي والت هيل يحتفل باليوم العا...</td>\n",
       "      <td>احتفل مستشفى الطب الطبيعي والت هيل باليوم العا...</td>\n",
       "      <td>alqabas</td>\n",
       "      <td>local news</td>\n",
       "      <td>مستشفى الطب الطبيعي والت هيل يحتفل باليوم العا...</td>\n",
       "    </tr>\n",
       "    <tr>\n",
       "      <th>3</th>\n",
       "      <td>الهلال ال حمر تبد حملة جمع تبرعات لمتضرري الصو...</td>\n",
       "      <td>بد ت جمعية الهلال ال حمر اليوم السبت حملة جمع ...</td>\n",
       "      <td>alqabas</td>\n",
       "      <td>local news</td>\n",
       "      <td>الهلال ال حمر تبد حملة جمع تبرعات لمتضرري الصو...</td>\n",
       "    </tr>\n",
       "    <tr>\n",
       "      <th>4</th>\n",
       "      <td>السفارة البريطانية رفع العلم من ظهر اليوم حتى ...</td>\n",
       "      <td>مي السكري علنت السفارة البريطانية لدى البلاد ن...</td>\n",
       "      <td>alqabas</td>\n",
       "      <td>local news</td>\n",
       "      <td>السفارة البريطانية رفع العلم من ظهر اليوم حتى ...</td>\n",
       "    </tr>\n",
       "  </tbody>\n",
       "</table>\n",
       "</div>"
      ],
      "text/plain": [
       "                                               title  \\\n",
       "0  سمو نا ب ال مير وولي العهد يهن الملك تشارلز ال...   \n",
       "1  سمو ال مير يهن تشارلز الثالث بمناسبة عتلا ه ال...   \n",
       "2  مستشفى الطب الطبيعي والت هيل يحتفل باليوم العا...   \n",
       "3  الهلال ال حمر تبد حملة جمع تبرعات لمتضرري الصو...   \n",
       "4  السفارة البريطانية رفع العلم من ظهر اليوم حتى ...   \n",
       "\n",
       "                                            contents category author_name  \\\n",
       "0  كونا بعث سمو نا ب ال مير وولي العهد الشيخ مشعل...  alqabas  local news   \n",
       "1  كونا بعث سمو مير البلاد الشيخ نواف ال حمد ببرق...  alqabas  local news   \n",
       "2  احتفل مستشفى الطب الطبيعي والت هيل باليوم العا...  alqabas  local news   \n",
       "3  بد ت جمعية الهلال ال حمر اليوم السبت حملة جمع ...  alqabas  local news   \n",
       "4  مي السكري علنت السفارة البريطانية لدى البلاد ن...  alqabas  local news   \n",
       "\n",
       "                                            keywords  \n",
       "0  سمو نا ب ال مير وولي العهد يهن الملك تشارلز ال...  \n",
       "1  سمو ال مير يهن تشارلز الثالث بمناسبة عتلا ه ال...  \n",
       "2  مستشفى الطب الطبيعي والت هيل يحتفل باليوم العا...  \n",
       "3  الهلال ال حمر تبد حملة جمع تبرعات لمتضرري الصو...  \n",
       "4  السفارة البريطانية رفع العلم من ظهر اليوم حتى ...  "
      ]
     },
     "execution_count": 26,
     "metadata": {},
     "output_type": "execute_result"
    }
   ],
   "source": [
    "dataset.head(5)"
   ]
  },
  {
   "cell_type": "code",
   "execution_count": 27,
   "metadata": {},
   "outputs": [],
   "source": [
    "#running this cell may take 30 mins\n",
    "from yake import KeywordExtractor\n",
    "kw_extractor = KeywordExtractor(lan=\"ar\", n=1, top=15) \n",
    "def keyword_extractor(data):\n",
    "    keywords = kw_extractor.extract_keywords(text=data)\n",
    "    keywords = \" \".join([x for x, y in keywords])\n",
    "    return keywords\n",
    "dataset[\"keywords\"]=dataset[\"keywords\"].apply(lambda data:keyword_extractor(data))"
   ]
  },
  {
   "cell_type": "code",
   "execution_count": 28,
   "metadata": {},
   "outputs": [
    {
     "data": {
      "text/html": [
       "<div>\n",
       "<style scoped>\n",
       "    .dataframe tbody tr th:only-of-type {\n",
       "        vertical-align: middle;\n",
       "    }\n",
       "\n",
       "    .dataframe tbody tr th {\n",
       "        vertical-align: top;\n",
       "    }\n",
       "\n",
       "    .dataframe thead th {\n",
       "        text-align: right;\n",
       "    }\n",
       "</style>\n",
       "<table border=\"1\" class=\"dataframe\">\n",
       "  <thead>\n",
       "    <tr style=\"text-align: right;\">\n",
       "      <th></th>\n",
       "      <th>title</th>\n",
       "      <th>contents</th>\n",
       "      <th>category</th>\n",
       "      <th>author_name</th>\n",
       "      <th>keywords</th>\n",
       "    </tr>\n",
       "  </thead>\n",
       "  <tbody>\n",
       "    <tr>\n",
       "      <th>0</th>\n",
       "      <td>سمو نا ب ال مير وولي العهد يهن الملك تشارلز ال...</td>\n",
       "      <td>كونا بعث سمو نا ب ال مير وولي العهد الشيخ مشعل...</td>\n",
       "      <td>alqabas</td>\n",
       "      <td>local news</td>\n",
       "      <td>مير وولي تشارلز سمو العهد الملك الثالث ملك يهن...</td>\n",
       "    </tr>\n",
       "    <tr>\n",
       "      <th>1</th>\n",
       "      <td>سمو ال مير يهن تشارلز الثالث بمناسبة عتلا ه ال...</td>\n",
       "      <td>كونا بعث سمو مير البلاد الشيخ نواف ال حمد ببرق...</td>\n",
       "      <td>alqabas</td>\n",
       "      <td>local news</td>\n",
       "      <td>تشارلز الثالث سمو مير المتحدة يهن بمناسبة عتلا...</td>\n",
       "    </tr>\n",
       "    <tr>\n",
       "      <th>2</th>\n",
       "      <td>مستشفى الطب الطبيعي والت هيل يحتفل باليوم العا...</td>\n",
       "      <td>احتفل مستشفى الطب الطبيعي والت هيل باليوم العا...</td>\n",
       "      <td>alqabas</td>\n",
       "      <td>local news</td>\n",
       "      <td>الطبيعي الطب والت العالمي للعلاج مستشفى هيل با...</td>\n",
       "    </tr>\n",
       "    <tr>\n",
       "      <th>3</th>\n",
       "      <td>الهلال ال حمر تبد حملة جمع تبرعات لمتضرري الصو...</td>\n",
       "      <td>بد ت جمعية الهلال ال حمر اليوم السبت حملة جمع ...</td>\n",
       "      <td>alqabas</td>\n",
       "      <td>local news</td>\n",
       "      <td>جمع تبرعات والسودان الهلال حمر حملة لمتضرري ال...</td>\n",
       "    </tr>\n",
       "    <tr>\n",
       "      <th>4</th>\n",
       "      <td>السفارة البريطانية رفع العلم من ظهر اليوم حتى ...</td>\n",
       "      <td>مي السكري علنت السفارة البريطانية لدى البلاد ن...</td>\n",
       "      <td>alqabas</td>\n",
       "      <td>local news</td>\n",
       "      <td>ظهر السفارة البريطانية بالتوقيت رفع العلم الثا...</td>\n",
       "    </tr>\n",
       "  </tbody>\n",
       "</table>\n",
       "</div>"
      ],
      "text/plain": [
       "                                               title  \\\n",
       "0  سمو نا ب ال مير وولي العهد يهن الملك تشارلز ال...   \n",
       "1  سمو ال مير يهن تشارلز الثالث بمناسبة عتلا ه ال...   \n",
       "2  مستشفى الطب الطبيعي والت هيل يحتفل باليوم العا...   \n",
       "3  الهلال ال حمر تبد حملة جمع تبرعات لمتضرري الصو...   \n",
       "4  السفارة البريطانية رفع العلم من ظهر اليوم حتى ...   \n",
       "\n",
       "                                            contents category author_name  \\\n",
       "0  كونا بعث سمو نا ب ال مير وولي العهد الشيخ مشعل...  alqabas  local news   \n",
       "1  كونا بعث سمو مير البلاد الشيخ نواف ال حمد ببرق...  alqabas  local news   \n",
       "2  احتفل مستشفى الطب الطبيعي والت هيل باليوم العا...  alqabas  local news   \n",
       "3  بد ت جمعية الهلال ال حمر اليوم السبت حملة جمع ...  alqabas  local news   \n",
       "4  مي السكري علنت السفارة البريطانية لدى البلاد ن...  alqabas  local news   \n",
       "\n",
       "                                            keywords  \n",
       "0  مير وولي تشارلز سمو العهد الملك الثالث ملك يهن...  \n",
       "1  تشارلز الثالث سمو مير المتحدة يهن بمناسبة عتلا...  \n",
       "2  الطبيعي الطب والت العالمي للعلاج مستشفى هيل با...  \n",
       "3  جمع تبرعات والسودان الهلال حمر حملة لمتضرري ال...  \n",
       "4  ظهر السفارة البريطانية بالتوقيت رفع العلم الثا...  "
      ]
     },
     "execution_count": 28,
     "metadata": {},
     "output_type": "execute_result"
    }
   ],
   "source": [
    "dataset.head(5)"
   ]
  },
  {
   "cell_type": "code",
   "execution_count": 3,
   "metadata": {},
   "outputs": [
    {
     "ename": "NameError",
     "evalue": "name 'dataset' is not defined",
     "output_type": "error",
     "traceback": [
      "\u001b[1;31m---------------------------------------------------------------------------\u001b[0m",
      "\u001b[1;31mNameError\u001b[0m                                 Traceback (most recent call last)",
      "\u001b[1;32m<ipython-input-3-c9442d958cf4>\u001b[0m in \u001b[0;36m<module>\u001b[1;34m\u001b[0m\n\u001b[1;32m----> 1\u001b[1;33m \u001b[0mdataset\u001b[0m\u001b[1;33m.\u001b[0m\u001b[0miloc\u001b[0m\u001b[1;33m[\u001b[0m\u001b[1;36m101\u001b[0m\u001b[1;33m]\u001b[0m\u001b[1;33m[\u001b[0m\u001b[1;34m\"keywords\"\u001b[0m\u001b[1;33m]\u001b[0m\u001b[1;33m\u001b[0m\u001b[1;33m\u001b[0m\u001b[0m\n\u001b[0m",
      "\u001b[1;31mNameError\u001b[0m: name 'dataset' is not defined"
     ]
    }
   ],
   "source": [
    "dataset.iloc[101][\"keywords\"]"
   ]
  },
  {
   "cell_type": "markdown",
   "metadata": {},
   "source": [
    "# TFIDF vectorization"
   ]
  },
  {
   "cell_type": "code",
   "execution_count": 29,
   "metadata": {},
   "outputs": [],
   "source": [
    "combined_features=dataset.title+\" \"+dataset.contents+\" \"+dataset.category+\" \"+dataset.author_name+\" \"+dataset.keywords"
   ]
  },
  {
   "cell_type": "code",
   "execution_count": 31,
   "metadata": {},
   "outputs": [
    {
     "data": {
      "text/plain": [
       "'سمو ال مير يهن تشارلز الثالث بمناسبة عتلا ه العرش ملكا للمملكة المتحدة كونا بعث سمو مير البلاد الشيخ نواف ال حمد ببرقية تهن ة لى صاحب الجلالة الملك تشارلز الثالث ملك المملكة المتحدة alqabas local news تشارلز الثالث سمو مير المتحدة يهن بمناسبة عتلا العرش ملكا للمملكة كونا بعث البلاد الشيخ'"
      ]
     },
     "execution_count": 31,
     "metadata": {},
     "output_type": "execute_result"
    }
   ],
   "source": [
    "combined_features[1]"
   ]
  },
  {
   "cell_type": "code",
   "execution_count": 30,
   "metadata": {},
   "outputs": [
    {
     "data": {
      "text/plain": [
       "TfidfVectorizer()"
      ]
     },
     "execution_count": 30,
     "metadata": {},
     "output_type": "execute_result"
    }
   ],
   "source": [
    "tfidf=TfidfVectorizer()\n",
    "tfidf.fit(combined_features)"
   ]
  },
  {
   "cell_type": "code",
   "execution_count": 31,
   "metadata": {},
   "outputs": [],
   "source": [
    "new_df=tfidf.transform(combined_features)"
   ]
  },
  {
   "cell_type": "code",
   "execution_count": 34,
   "metadata": {},
   "outputs": [
    {
     "data": {
      "text/plain": [
       "<13820x108470 sparse matrix of type '<class 'numpy.float64'>'\n",
       "\twith 1430580 stored elements in Compressed Sparse Row format>"
      ]
     },
     "execution_count": 34,
     "metadata": {},
     "output_type": "execute_result"
    }
   ],
   "source": [
    "new_df"
   ]
  },
  {
   "cell_type": "markdown",
   "metadata": {},
   "source": [
    "<img src=\"https://cs.carleton.edu/cs_comps/0910/netflixprize/final_results/knn/img/knn/cos.png\">"
   ]
  },
  {
   "cell_type": "code",
   "execution_count": 32,
   "metadata": {},
   "outputs": [],
   "source": [
    "similarity_table=cosine_similarity(new_df) #generates the similarity table between all the news #return type numpy array"
   ]
  },
  {
   "cell_type": "code",
   "execution_count": 33,
   "metadata": {},
   "outputs": [
    {
     "data": {
      "text/plain": [
       "(13820, 13820)"
      ]
     },
     "execution_count": 33,
     "metadata": {},
     "output_type": "execute_result"
    }
   ],
   "source": [
    "similarity_table.shape #gives 13820 x 13820 -- that is similarity between the vectors of 13820 news"
   ]
  },
  {
   "cell_type": "code",
   "execution_count": 34,
   "metadata": {},
   "outputs": [],
   "source": [
    "new_df=pd.DataFrame.sparse.from_spmatrix(new_df)"
   ]
  },
  {
   "cell_type": "markdown",
   "metadata": {},
   "source": [
    "# Testing the model"
   ]
  },
  {
   "cell_type": "code",
   "execution_count": 38,
   "metadata": {},
   "outputs": [
    {
     "name": "stdout",
     "output_type": "stream",
     "text": [
      "8\n",
      "vector of our movie 0         0.0\n",
      "1         0.0\n",
      "2         0.0\n",
      "3         0.0\n",
      "4         0.0\n",
      "         ... \n",
      "108465    0.0\n",
      "108466    0.0\n",
      "108467    0.0\n",
      "108468    0.0\n",
      "108469    0.0\n",
      "Name: 8, Length: 108470, dtype: Sparse[float64, 0]\n",
      "[(8, 1.0000000000000002), (3462, 0.6544164446457322), (3666, 0.5847996069766551), (101, 0.5770757419137155), (386, 0.566502605113999)]\n",
      "Predictions are\n",
      "prediction الوزير الموسى زيادة مواقع نقاط شواحن المركبات الكهربا ية بالكويت\n",
      "prediction الموسى الانتها من عداد لا حة الشواحن لوضع استراتيجيات منظومة توفير الشواحن للسيارات الكهربا ية بالكويت\n",
      "prediction الموسى الانتها من عداد لا حة الشواحن للسيارات الكه\n",
      "prediction وزير الكهربا الانتها من عداد لا حة شواحن السيارات الكهربا ية في الكويت\n",
      "prediction الموسى الانتها من عداد لا حة الشواحن لوضع استراتيجيات منظومة توفير الشواحن للسيارات الكهربا ية بالكويت\n"
     ]
    }
   ],
   "source": [
    "def similarity_predictor(data):\n",
    "    # closly_matched=difflib.get_close_matches(data,dataset.title.to_list()) #this function has been used to match input movie name with all similar movie names we can do that with a for but handling case sensitivity and spacing mistakes make our task tuff that why we use this library \n",
    "    # print(closly_matched) #returns a list of close matches\n",
    "    # confirmation=int(input(\"enter the index value for movie\"))\n",
    "    # exact_match=closly_matched[confirmation]\n",
    "    # ##finding the vector for this movie from our initial dataset\n",
    "    index_num = dataset.loc[dataset.title==data].index[0]\n",
    "    print(index_num)\n",
    "    print(\"vector of our movie\",new_df.iloc[index_num])\n",
    "    similarity_scores=list(enumerate(similarity_table[index_num])) # finding the index value in similarity table\n",
    "    # print(similarity_scores)\n",
    "\n",
    "    res = sorted(similarity_scores, key = lambda x: x[1], reverse = True)[:5]\n",
    "    print(res)\n",
    "    print(\"Predictions are\")\n",
    "    for i in res:\n",
    "        print(\"prediction\",dataset.iloc[i[0]][\"title\"])\n",
    "    \n",
    "title=dataset.iloc[8].title \n",
    "content=dataset.iloc[8].contents\n",
    "similarity_predictor(title)"
   ]
  },
  {
   "cell_type": "code",
   "execution_count": 39,
   "metadata": {},
   "outputs": [
    {
     "name": "stdout",
     "output_type": "stream",
     "text": [
      "['البي ة جولة تفتيشية على نقعة الشملان وتحرير مخالفات', 'نقعة الشملان البي ة تواصل زالة القوارب المخالفة', 'البي ة تخالف عددا من القوارب غير المرخصة في نقعة الشملان', 'استمرارا ل عمال التفتيش والرقابة على نقعة الشملان قامت الهي ة العامة للبي ة بالتنسيق مع الجهات المعنية بعمل جولة ت https t co Xq QnEm pA', 'البي ة ترصد مخالفات في نقعة الشملان https t co XNQXrt xd']\n"
     ]
    }
   ],
   "source": [
    "def similarity_predictor(data):\n",
    "    # closly_matched=difflib.get_close_matches(data,dataset.title.to_list()) #this function has been used to match input movie name with all similar movie names we can do that with a for but handling case sensitivity and spacing mistakes make our task tuff that why we use this library \n",
    "    # print(closly_matched) #returns a list of close matches\n",
    "    # confirmation=int(input(\"enter the index value for movie\"))\n",
    "    # exact_match=closly_matched[confirmation]\n",
    "    # ##finding the vector for this movie from our initial dataset\n",
    "    index_num = dataset.loc[dataset.title==data].index[0]\n",
    "    # print(index_num)\n",
    "    # print(\"vector of our movie\",new_df.iloc[index_num])\n",
    "    similarity_scores=list(enumerate(similarity_table[index_num])) # finding the index value in similarity table\n",
    "    # print(similarity_scores)\n",
    "\n",
    "    res = sorted(similarity_scores, key = lambda x: x[1], reverse = True)[:5]\n",
    "    # print(res)\n",
    "    # print(\"Predictions are\")\n",
    "    fin=[]\n",
    "    for i in res:\n",
    "        # print(\"prediction\",dataset.iloc[i[0]][\"title\"])\n",
    "        fin.append(dataset.iloc[i[0]][\"title\"])\n",
    "    return fin\n",
    "    \n",
    "title=dataset.iloc[7].title \n",
    "# content=dataset.iloc[8].contents\n",
    "result=similarity_predictor(title)\n",
    "print(result)\n"
   ]
  },
  {
   "cell_type": "code",
   "execution_count": 40,
   "metadata": {},
   "outputs": [
    {
     "data": {
      "text/plain": [
       "(13820, 5)"
      ]
     },
     "execution_count": 40,
     "metadata": {},
     "output_type": "execute_result"
    }
   ],
   "source": [
    "dataset.shape"
   ]
  },
  {
   "cell_type": "code",
   "execution_count": 41,
   "metadata": {},
   "outputs": [],
   "source": [
    "import random\n",
    "from deep_translator import GoogleTranslator\n",
    "\n",
    "for i in range(50):\n",
    "    rand_num=random.randint(0,13820)\n",
    "    title=dataset.iloc[rand_num].title \n",
    "    with open('result.txt','a',encoding=\"utf-8\") as doc:\n",
    "        doc.write('\\n\\ninput news :'+ title)\n",
    "        doc.write('\\ninput news translated :'+GoogleTranslator(source='auto', target='en').translate(title))\n",
    "        predictions=similarity_predictor(title)\n",
    "        for prediction in predictions:\n",
    "            doc.write('\\n\\tprediction translated :'+GoogleTranslator(source='auto', target='en').translate(prediction))\n"
   ]
  },
  {
   "cell_type": "code",
   "execution_count": 42,
   "metadata": {},
   "outputs": [
    {
     "data": {
      "text/plain": [
       "array([[1.00000000e+00, 5.95231340e-01, 9.36147100e-03, ...,\n",
       "        4.70504614e-04, 5.89363369e-03, 4.55428451e-04],\n",
       "       [5.95231340e-01, 1.00000000e+00, 9.27818973e-03, ...,\n",
       "        4.66318924e-04, 4.02851257e-03, 4.51376881e-04],\n",
       "       [9.36147100e-03, 9.27818973e-03, 1.00000000e+00, ...,\n",
       "        1.51468612e-03, 2.91837449e-04, 3.26763222e-04],\n",
       "       ...,\n",
       "       [4.70504614e-04, 4.66318924e-04, 1.51468612e-03, ...,\n",
       "        1.00000000e+00, 1.74874879e-02, 1.95803105e-02],\n",
       "       [5.89363369e-03, 4.02851257e-03, 2.91837449e-04, ...,\n",
       "        1.74874879e-02, 1.00000000e+00, 2.22869929e-02],\n",
       "       [4.55428451e-04, 4.51376881e-04, 3.26763222e-04, ...,\n",
       "        1.95803105e-02, 2.22869929e-02, 1.00000000e+00]])"
      ]
     },
     "execution_count": 42,
     "metadata": {},
     "output_type": "execute_result"
    }
   ],
   "source": [
    "similarity_table"
   ]
  },
  {
   "cell_type": "markdown",
   "metadata": {},
   "source": [
    "# DBScan clustering"
   ]
  },
  {
   "cell_type": "markdown",
   "metadata": {},
   "source": [
    "for finding the approprite eps value in dbscan lets take similarity table value and averge it\n"
   ]
  },
  {
   "cell_type": "code",
   "execution_count": 43,
   "metadata": {},
   "outputs": [],
   "source": [
    "values=similarity_table.flatten()"
   ]
  },
  {
   "cell_type": "code",
   "execution_count": 44,
   "metadata": {},
   "outputs": [
    {
     "ename": "KeyboardInterrupt",
     "evalue": "",
     "output_type": "error",
     "traceback": [
      "\u001b[1;31m---------------------------------------------------------------------------\u001b[0m",
      "\u001b[1;31mKeyboardInterrupt\u001b[0m                         Traceback (most recent call last)",
      "\u001b[1;32m<ipython-input-44-bd4e9e175db1>\u001b[0m in \u001b[0;36m<module>\u001b[1;34m\u001b[0m\n\u001b[0;32m      1\u001b[0m \u001b[1;32mfrom\u001b[0m \u001b[0msklearn\u001b[0m\u001b[1;33m.\u001b[0m\u001b[0mcluster\u001b[0m \u001b[1;32mimport\u001b[0m \u001b[0mDBSCAN\u001b[0m\u001b[1;33m\u001b[0m\u001b[1;33m\u001b[0m\u001b[0m\n\u001b[0;32m      2\u001b[0m \u001b[0mdbscan\u001b[0m\u001b[1;33m=\u001b[0m\u001b[0mDBSCAN\u001b[0m\u001b[1;33m(\u001b[0m\u001b[0meps\u001b[0m\u001b[1;33m=\u001b[0m\u001b[1;36m0.17\u001b[0m\u001b[1;33m,\u001b[0m\u001b[0mmin_samples\u001b[0m\u001b[1;33m=\u001b[0m\u001b[1;36m5\u001b[0m\u001b[1;33m)\u001b[0m \u001b[1;31m#eps-->maximum distance b/w clusters and\u001b[0m\u001b[1;33m\u001b[0m\u001b[1;33m\u001b[0m\u001b[0m\n\u001b[1;32m----> 3\u001b[1;33m \u001b[0mdbscan\u001b[0m\u001b[1;33m.\u001b[0m\u001b[0mfit\u001b[0m\u001b[1;33m(\u001b[0m\u001b[0mnew_df\u001b[0m\u001b[1;33m)\u001b[0m\u001b[1;33m\u001b[0m\u001b[1;33m\u001b[0m\u001b[0m\n\u001b[0m\u001b[0;32m      4\u001b[0m \u001b[0mnp\u001b[0m\u001b[1;33m.\u001b[0m\u001b[0munique\u001b[0m\u001b[1;33m(\u001b[0m\u001b[0mdbscan\u001b[0m\u001b[1;33m.\u001b[0m\u001b[0mlabels_\u001b[0m\u001b[1;33m)\u001b[0m\u001b[1;33m\u001b[0m\u001b[1;33m\u001b[0m\u001b[0m\n",
      "\u001b[1;32mc:\\anaconda\\envs\\machine_learning\\lib\\site-packages\\sklearn\\cluster\\_dbscan.py\u001b[0m in \u001b[0;36mfit\u001b[1;34m(self, X, y, sample_weight)\u001b[0m\n\u001b[0;32m    332\u001b[0m         \u001b[0mneighbors_model\u001b[0m\u001b[1;33m.\u001b[0m\u001b[0mfit\u001b[0m\u001b[1;33m(\u001b[0m\u001b[0mX\u001b[0m\u001b[1;33m)\u001b[0m\u001b[1;33m\u001b[0m\u001b[1;33m\u001b[0m\u001b[0m\n\u001b[0;32m    333\u001b[0m         \u001b[1;31m# This has worst case O(n^2) memory complexity\u001b[0m\u001b[1;33m\u001b[0m\u001b[1;33m\u001b[0m\u001b[1;33m\u001b[0m\u001b[0m\n\u001b[1;32m--> 334\u001b[1;33m         neighborhoods = neighbors_model.radius_neighbors(X,\n\u001b[0m\u001b[0;32m    335\u001b[0m                                                          return_distance=False)\n\u001b[0;32m    336\u001b[0m \u001b[1;33m\u001b[0m\u001b[0m\n",
      "\u001b[1;32mc:\\anaconda\\envs\\machine_learning\\lib\\site-packages\\sklearn\\neighbors\\_base.py\u001b[0m in \u001b[0;36mradius_neighbors\u001b[1;34m(self, X, radius, return_distance, sort_results)\u001b[0m\n\u001b[0;32m   1020\u001b[0m                 \u001b[0mresults\u001b[0m \u001b[1;33m=\u001b[0m \u001b[0mneigh_dist\u001b[0m\u001b[1;33m,\u001b[0m \u001b[0mneigh_ind\u001b[0m\u001b[1;33m\u001b[0m\u001b[1;33m\u001b[0m\u001b[0m\n\u001b[0;32m   1021\u001b[0m             \u001b[1;32melse\u001b[0m\u001b[1;33m:\u001b[0m\u001b[1;33m\u001b[0m\u001b[1;33m\u001b[0m\u001b[0m\n\u001b[1;32m-> 1022\u001b[1;33m                 \u001b[0mneigh_ind_list\u001b[0m \u001b[1;33m=\u001b[0m \u001b[0msum\u001b[0m\u001b[1;33m(\u001b[0m\u001b[0mchunked_results\u001b[0m\u001b[1;33m,\u001b[0m \u001b[1;33m[\u001b[0m\u001b[1;33m]\u001b[0m\u001b[1;33m)\u001b[0m\u001b[1;33m\u001b[0m\u001b[1;33m\u001b[0m\u001b[0m\n\u001b[0m\u001b[0;32m   1023\u001b[0m                 \u001b[0mresults\u001b[0m \u001b[1;33m=\u001b[0m \u001b[0m_to_object_array\u001b[0m\u001b[1;33m(\u001b[0m\u001b[0mneigh_ind_list\u001b[0m\u001b[1;33m)\u001b[0m\u001b[1;33m\u001b[0m\u001b[1;33m\u001b[0m\u001b[0m\n\u001b[0;32m   1024\u001b[0m \u001b[1;33m\u001b[0m\u001b[0m\n",
      "\u001b[1;32mc:\\anaconda\\envs\\machine_learning\\lib\\site-packages\\sklearn\\metrics\\pairwise.py\u001b[0m in \u001b[0;36mpairwise_distances_chunked\u001b[1;34m(X, Y, reduce_func, metric, n_jobs, working_memory, **kwds)\u001b[0m\n\u001b[0;32m   1621\u001b[0m         \u001b[1;32melse\u001b[0m\u001b[1;33m:\u001b[0m\u001b[1;33m\u001b[0m\u001b[1;33m\u001b[0m\u001b[0m\n\u001b[0;32m   1622\u001b[0m             \u001b[0mX_chunk\u001b[0m \u001b[1;33m=\u001b[0m \u001b[0mX\u001b[0m\u001b[1;33m[\u001b[0m\u001b[0msl\u001b[0m\u001b[1;33m]\u001b[0m\u001b[1;33m\u001b[0m\u001b[1;33m\u001b[0m\u001b[0m\n\u001b[1;32m-> 1623\u001b[1;33m         D_chunk = pairwise_distances(X_chunk, Y, metric=metric,\n\u001b[0m\u001b[0;32m   1624\u001b[0m                                      n_jobs=n_jobs, **kwds)\n\u001b[0;32m   1625\u001b[0m         if ((X is Y or Y is None)\n",
      "\u001b[1;32mc:\\anaconda\\envs\\machine_learning\\lib\\site-packages\\sklearn\\utils\\validation.py\u001b[0m in \u001b[0;36minner_f\u001b[1;34m(*args, **kwargs)\u001b[0m\n\u001b[0;32m     61\u001b[0m             \u001b[0mextra_args\u001b[0m \u001b[1;33m=\u001b[0m \u001b[0mlen\u001b[0m\u001b[1;33m(\u001b[0m\u001b[0margs\u001b[0m\u001b[1;33m)\u001b[0m \u001b[1;33m-\u001b[0m \u001b[0mlen\u001b[0m\u001b[1;33m(\u001b[0m\u001b[0mall_args\u001b[0m\u001b[1;33m)\u001b[0m\u001b[1;33m\u001b[0m\u001b[1;33m\u001b[0m\u001b[0m\n\u001b[0;32m     62\u001b[0m             \u001b[1;32mif\u001b[0m \u001b[0mextra_args\u001b[0m \u001b[1;33m<=\u001b[0m \u001b[1;36m0\u001b[0m\u001b[1;33m:\u001b[0m\u001b[1;33m\u001b[0m\u001b[1;33m\u001b[0m\u001b[0m\n\u001b[1;32m---> 63\u001b[1;33m                 \u001b[1;32mreturn\u001b[0m \u001b[0mf\u001b[0m\u001b[1;33m(\u001b[0m\u001b[1;33m*\u001b[0m\u001b[0margs\u001b[0m\u001b[1;33m,\u001b[0m \u001b[1;33m**\u001b[0m\u001b[0mkwargs\u001b[0m\u001b[1;33m)\u001b[0m\u001b[1;33m\u001b[0m\u001b[1;33m\u001b[0m\u001b[0m\n\u001b[0m\u001b[0;32m     64\u001b[0m \u001b[1;33m\u001b[0m\u001b[0m\n\u001b[0;32m     65\u001b[0m             \u001b[1;31m# extra_args > 0\u001b[0m\u001b[1;33m\u001b[0m\u001b[1;33m\u001b[0m\u001b[1;33m\u001b[0m\u001b[0m\n",
      "\u001b[1;32mc:\\anaconda\\envs\\machine_learning\\lib\\site-packages\\sklearn\\metrics\\pairwise.py\u001b[0m in \u001b[0;36mpairwise_distances\u001b[1;34m(X, Y, metric, n_jobs, force_all_finite, **kwds)\u001b[0m\n\u001b[0;32m   1788\u001b[0m         \u001b[0mfunc\u001b[0m \u001b[1;33m=\u001b[0m \u001b[0mpartial\u001b[0m\u001b[1;33m(\u001b[0m\u001b[0mdistance\u001b[0m\u001b[1;33m.\u001b[0m\u001b[0mcdist\u001b[0m\u001b[1;33m,\u001b[0m \u001b[0mmetric\u001b[0m\u001b[1;33m=\u001b[0m\u001b[0mmetric\u001b[0m\u001b[1;33m,\u001b[0m \u001b[1;33m**\u001b[0m\u001b[0mkwds\u001b[0m\u001b[1;33m)\u001b[0m\u001b[1;33m\u001b[0m\u001b[1;33m\u001b[0m\u001b[0m\n\u001b[0;32m   1789\u001b[0m \u001b[1;33m\u001b[0m\u001b[0m\n\u001b[1;32m-> 1790\u001b[1;33m     \u001b[1;32mreturn\u001b[0m \u001b[0m_parallel_pairwise\u001b[0m\u001b[1;33m(\u001b[0m\u001b[0mX\u001b[0m\u001b[1;33m,\u001b[0m \u001b[0mY\u001b[0m\u001b[1;33m,\u001b[0m \u001b[0mfunc\u001b[0m\u001b[1;33m,\u001b[0m \u001b[0mn_jobs\u001b[0m\u001b[1;33m,\u001b[0m \u001b[1;33m**\u001b[0m\u001b[0mkwds\u001b[0m\u001b[1;33m)\u001b[0m\u001b[1;33m\u001b[0m\u001b[1;33m\u001b[0m\u001b[0m\n\u001b[0m\u001b[0;32m   1791\u001b[0m \u001b[1;33m\u001b[0m\u001b[0m\n\u001b[0;32m   1792\u001b[0m \u001b[1;33m\u001b[0m\u001b[0m\n",
      "\u001b[1;32mc:\\anaconda\\envs\\machine_learning\\lib\\site-packages\\sklearn\\metrics\\pairwise.py\u001b[0m in \u001b[0;36m_parallel_pairwise\u001b[1;34m(X, Y, func, n_jobs, **kwds)\u001b[0m\n\u001b[0;32m   1357\u001b[0m \u001b[1;33m\u001b[0m\u001b[0m\n\u001b[0;32m   1358\u001b[0m     \u001b[1;32mif\u001b[0m \u001b[0meffective_n_jobs\u001b[0m\u001b[1;33m(\u001b[0m\u001b[0mn_jobs\u001b[0m\u001b[1;33m)\u001b[0m \u001b[1;33m==\u001b[0m \u001b[1;36m1\u001b[0m\u001b[1;33m:\u001b[0m\u001b[1;33m\u001b[0m\u001b[1;33m\u001b[0m\u001b[0m\n\u001b[1;32m-> 1359\u001b[1;33m         \u001b[1;32mreturn\u001b[0m \u001b[0mfunc\u001b[0m\u001b[1;33m(\u001b[0m\u001b[0mX\u001b[0m\u001b[1;33m,\u001b[0m \u001b[0mY\u001b[0m\u001b[1;33m,\u001b[0m \u001b[1;33m**\u001b[0m\u001b[0mkwds\u001b[0m\u001b[1;33m)\u001b[0m\u001b[1;33m\u001b[0m\u001b[1;33m\u001b[0m\u001b[0m\n\u001b[0m\u001b[0;32m   1360\u001b[0m \u001b[1;33m\u001b[0m\u001b[0m\n\u001b[0;32m   1361\u001b[0m     \u001b[1;31m# enforce a threading backend to prevent data communication overhead\u001b[0m\u001b[1;33m\u001b[0m\u001b[1;33m\u001b[0m\u001b[1;33m\u001b[0m\u001b[0m\n",
      "\u001b[1;32mc:\\anaconda\\envs\\machine_learning\\lib\\site-packages\\sklearn\\utils\\validation.py\u001b[0m in \u001b[0;36minner_f\u001b[1;34m(*args, **kwargs)\u001b[0m\n\u001b[0;32m     61\u001b[0m             \u001b[0mextra_args\u001b[0m \u001b[1;33m=\u001b[0m \u001b[0mlen\u001b[0m\u001b[1;33m(\u001b[0m\u001b[0margs\u001b[0m\u001b[1;33m)\u001b[0m \u001b[1;33m-\u001b[0m \u001b[0mlen\u001b[0m\u001b[1;33m(\u001b[0m\u001b[0mall_args\u001b[0m\u001b[1;33m)\u001b[0m\u001b[1;33m\u001b[0m\u001b[1;33m\u001b[0m\u001b[0m\n\u001b[0;32m     62\u001b[0m             \u001b[1;32mif\u001b[0m \u001b[0mextra_args\u001b[0m \u001b[1;33m<=\u001b[0m \u001b[1;36m0\u001b[0m\u001b[1;33m:\u001b[0m\u001b[1;33m\u001b[0m\u001b[1;33m\u001b[0m\u001b[0m\n\u001b[1;32m---> 63\u001b[1;33m                 \u001b[1;32mreturn\u001b[0m \u001b[0mf\u001b[0m\u001b[1;33m(\u001b[0m\u001b[1;33m*\u001b[0m\u001b[0margs\u001b[0m\u001b[1;33m,\u001b[0m \u001b[1;33m**\u001b[0m\u001b[0mkwargs\u001b[0m\u001b[1;33m)\u001b[0m\u001b[1;33m\u001b[0m\u001b[1;33m\u001b[0m\u001b[0m\n\u001b[0m\u001b[0;32m     64\u001b[0m \u001b[1;33m\u001b[0m\u001b[0m\n\u001b[0;32m     65\u001b[0m             \u001b[1;31m# extra_args > 0\u001b[0m\u001b[1;33m\u001b[0m\u001b[1;33m\u001b[0m\u001b[1;33m\u001b[0m\u001b[0m\n",
      "\u001b[1;32mc:\\anaconda\\envs\\machine_learning\\lib\\site-packages\\sklearn\\metrics\\pairwise.py\u001b[0m in \u001b[0;36meuclidean_distances\u001b[1;34m(X, Y, Y_norm_squared, squared, X_norm_squared)\u001b[0m\n\u001b[0;32m    311\u001b[0m     \u001b[1;32melse\u001b[0m\u001b[1;33m:\u001b[0m\u001b[1;33m\u001b[0m\u001b[1;33m\u001b[0m\u001b[0m\n\u001b[0;32m    312\u001b[0m         \u001b[1;31m# if dtype is already float64, no need to chunk and upcast\u001b[0m\u001b[1;33m\u001b[0m\u001b[1;33m\u001b[0m\u001b[1;33m\u001b[0m\u001b[0m\n\u001b[1;32m--> 313\u001b[1;33m         \u001b[0mdistances\u001b[0m \u001b[1;33m=\u001b[0m \u001b[1;33m-\u001b[0m \u001b[1;36m2\u001b[0m \u001b[1;33m*\u001b[0m \u001b[0msafe_sparse_dot\u001b[0m\u001b[1;33m(\u001b[0m\u001b[0mX\u001b[0m\u001b[1;33m,\u001b[0m \u001b[0mY\u001b[0m\u001b[1;33m.\u001b[0m\u001b[0mT\u001b[0m\u001b[1;33m,\u001b[0m \u001b[0mdense_output\u001b[0m\u001b[1;33m=\u001b[0m\u001b[1;32mTrue\u001b[0m\u001b[1;33m)\u001b[0m\u001b[1;33m\u001b[0m\u001b[1;33m\u001b[0m\u001b[0m\n\u001b[0m\u001b[0;32m    314\u001b[0m         \u001b[0mdistances\u001b[0m \u001b[1;33m+=\u001b[0m \u001b[0mXX\u001b[0m\u001b[1;33m\u001b[0m\u001b[1;33m\u001b[0m\u001b[0m\n\u001b[0;32m    315\u001b[0m         \u001b[0mdistances\u001b[0m \u001b[1;33m+=\u001b[0m \u001b[0mYY\u001b[0m\u001b[1;33m\u001b[0m\u001b[1;33m\u001b[0m\u001b[0m\n",
      "\u001b[1;32mc:\\anaconda\\envs\\machine_learning\\lib\\site-packages\\sklearn\\utils\\validation.py\u001b[0m in \u001b[0;36minner_f\u001b[1;34m(*args, **kwargs)\u001b[0m\n\u001b[0;32m     61\u001b[0m             \u001b[0mextra_args\u001b[0m \u001b[1;33m=\u001b[0m \u001b[0mlen\u001b[0m\u001b[1;33m(\u001b[0m\u001b[0margs\u001b[0m\u001b[1;33m)\u001b[0m \u001b[1;33m-\u001b[0m \u001b[0mlen\u001b[0m\u001b[1;33m(\u001b[0m\u001b[0mall_args\u001b[0m\u001b[1;33m)\u001b[0m\u001b[1;33m\u001b[0m\u001b[1;33m\u001b[0m\u001b[0m\n\u001b[0;32m     62\u001b[0m             \u001b[1;32mif\u001b[0m \u001b[0mextra_args\u001b[0m \u001b[1;33m<=\u001b[0m \u001b[1;36m0\u001b[0m\u001b[1;33m:\u001b[0m\u001b[1;33m\u001b[0m\u001b[1;33m\u001b[0m\u001b[0m\n\u001b[1;32m---> 63\u001b[1;33m                 \u001b[1;32mreturn\u001b[0m \u001b[0mf\u001b[0m\u001b[1;33m(\u001b[0m\u001b[1;33m*\u001b[0m\u001b[0margs\u001b[0m\u001b[1;33m,\u001b[0m \u001b[1;33m**\u001b[0m\u001b[0mkwargs\u001b[0m\u001b[1;33m)\u001b[0m\u001b[1;33m\u001b[0m\u001b[1;33m\u001b[0m\u001b[0m\n\u001b[0m\u001b[0;32m     64\u001b[0m \u001b[1;33m\u001b[0m\u001b[0m\n\u001b[0;32m     65\u001b[0m             \u001b[1;31m# extra_args > 0\u001b[0m\u001b[1;33m\u001b[0m\u001b[1;33m\u001b[0m\u001b[1;33m\u001b[0m\u001b[0m\n",
      "\u001b[1;32mc:\\anaconda\\envs\\machine_learning\\lib\\site-packages\\sklearn\\utils\\extmath.py\u001b[0m in \u001b[0;36msafe_sparse_dot\u001b[1;34m(a, b, dense_output)\u001b[0m\n\u001b[0;32m    150\u001b[0m             \u001b[0mret\u001b[0m \u001b[1;33m=\u001b[0m \u001b[0mnp\u001b[0m\u001b[1;33m.\u001b[0m\u001b[0mdot\u001b[0m\u001b[1;33m(\u001b[0m\u001b[0ma\u001b[0m\u001b[1;33m,\u001b[0m \u001b[0mb\u001b[0m\u001b[1;33m)\u001b[0m\u001b[1;33m\u001b[0m\u001b[1;33m\u001b[0m\u001b[0m\n\u001b[0;32m    151\u001b[0m     \u001b[1;32melse\u001b[0m\u001b[1;33m:\u001b[0m\u001b[1;33m\u001b[0m\u001b[1;33m\u001b[0m\u001b[0m\n\u001b[1;32m--> 152\u001b[1;33m         \u001b[0mret\u001b[0m \u001b[1;33m=\u001b[0m \u001b[0ma\u001b[0m \u001b[1;33m@\u001b[0m \u001b[0mb\u001b[0m\u001b[1;33m\u001b[0m\u001b[1;33m\u001b[0m\u001b[0m\n\u001b[0m\u001b[0;32m    153\u001b[0m \u001b[1;33m\u001b[0m\u001b[0m\n\u001b[0;32m    154\u001b[0m     if (sparse.issparse(a) and sparse.issparse(b)\n",
      "\u001b[1;32mc:\\anaconda\\envs\\machine_learning\\lib\\site-packages\\scipy\\sparse\\base.py\u001b[0m in \u001b[0;36m__matmul__\u001b[1;34m(self, other)\u001b[0m\n\u001b[0;32m    562\u001b[0m             raise ValueError(\"Scalar operands are not allowed, \"\n\u001b[0;32m    563\u001b[0m                              \"use '*' instead\")\n\u001b[1;32m--> 564\u001b[1;33m         \u001b[1;32mreturn\u001b[0m \u001b[0mself\u001b[0m\u001b[1;33m.\u001b[0m\u001b[0m__mul__\u001b[0m\u001b[1;33m(\u001b[0m\u001b[0mother\u001b[0m\u001b[1;33m)\u001b[0m\u001b[1;33m\u001b[0m\u001b[1;33m\u001b[0m\u001b[0m\n\u001b[0m\u001b[0;32m    565\u001b[0m \u001b[1;33m\u001b[0m\u001b[0m\n\u001b[0;32m    566\u001b[0m     \u001b[1;32mdef\u001b[0m \u001b[0m__rmatmul__\u001b[0m\u001b[1;33m(\u001b[0m\u001b[0mself\u001b[0m\u001b[1;33m,\u001b[0m \u001b[0mother\u001b[0m\u001b[1;33m)\u001b[0m\u001b[1;33m:\u001b[0m\u001b[1;33m\u001b[0m\u001b[1;33m\u001b[0m\u001b[0m\n",
      "\u001b[1;32mc:\\anaconda\\envs\\machine_learning\\lib\\site-packages\\scipy\\sparse\\base.py\u001b[0m in \u001b[0;36m__mul__\u001b[1;34m(self, other)\u001b[0m\n\u001b[0;32m    482\u001b[0m             \u001b[1;32mif\u001b[0m \u001b[0mself\u001b[0m\u001b[1;33m.\u001b[0m\u001b[0mshape\u001b[0m\u001b[1;33m[\u001b[0m\u001b[1;36m1\u001b[0m\u001b[1;33m]\u001b[0m \u001b[1;33m!=\u001b[0m \u001b[0mother\u001b[0m\u001b[1;33m.\u001b[0m\u001b[0mshape\u001b[0m\u001b[1;33m[\u001b[0m\u001b[1;36m0\u001b[0m\u001b[1;33m]\u001b[0m\u001b[1;33m:\u001b[0m\u001b[1;33m\u001b[0m\u001b[1;33m\u001b[0m\u001b[0m\n\u001b[0;32m    483\u001b[0m                 \u001b[1;32mraise\u001b[0m \u001b[0mValueError\u001b[0m\u001b[1;33m(\u001b[0m\u001b[1;34m'dimension mismatch'\u001b[0m\u001b[1;33m)\u001b[0m\u001b[1;33m\u001b[0m\u001b[1;33m\u001b[0m\u001b[0m\n\u001b[1;32m--> 484\u001b[1;33m             \u001b[1;32mreturn\u001b[0m \u001b[0mself\u001b[0m\u001b[1;33m.\u001b[0m\u001b[0m_mul_sparse_matrix\u001b[0m\u001b[1;33m(\u001b[0m\u001b[0mother\u001b[0m\u001b[1;33m)\u001b[0m\u001b[1;33m\u001b[0m\u001b[1;33m\u001b[0m\u001b[0m\n\u001b[0m\u001b[0;32m    485\u001b[0m \u001b[1;33m\u001b[0m\u001b[0m\n\u001b[0;32m    486\u001b[0m         \u001b[1;31m# If it's a list or whatever, treat it like a matrix\u001b[0m\u001b[1;33m\u001b[0m\u001b[1;33m\u001b[0m\u001b[1;33m\u001b[0m\u001b[0m\n",
      "\u001b[1;32mc:\\anaconda\\envs\\machine_learning\\lib\\site-packages\\scipy\\sparse\\compressed.py\u001b[0m in \u001b[0;36m_mul_sparse_matrix\u001b[1;34m(self, other)\u001b[0m\n\u001b[0;32m    518\u001b[0m \u001b[1;33m\u001b[0m\u001b[0m\n\u001b[0;32m    519\u001b[0m         \u001b[0mfn\u001b[0m \u001b[1;33m=\u001b[0m \u001b[0mgetattr\u001b[0m\u001b[1;33m(\u001b[0m\u001b[0m_sparsetools\u001b[0m\u001b[1;33m,\u001b[0m \u001b[0mself\u001b[0m\u001b[1;33m.\u001b[0m\u001b[0mformat\u001b[0m \u001b[1;33m+\u001b[0m \u001b[1;34m'_matmat_pass2'\u001b[0m\u001b[1;33m)\u001b[0m\u001b[1;33m\u001b[0m\u001b[1;33m\u001b[0m\u001b[0m\n\u001b[1;32m--> 520\u001b[1;33m         fn(M, N, np.asarray(self.indptr, dtype=idx_dtype),\n\u001b[0m\u001b[0;32m    521\u001b[0m            \u001b[0mnp\u001b[0m\u001b[1;33m.\u001b[0m\u001b[0masarray\u001b[0m\u001b[1;33m(\u001b[0m\u001b[0mself\u001b[0m\u001b[1;33m.\u001b[0m\u001b[0mindices\u001b[0m\u001b[1;33m,\u001b[0m \u001b[0mdtype\u001b[0m\u001b[1;33m=\u001b[0m\u001b[0midx_dtype\u001b[0m\u001b[1;33m)\u001b[0m\u001b[1;33m,\u001b[0m\u001b[1;33m\u001b[0m\u001b[1;33m\u001b[0m\u001b[0m\n\u001b[0;32m    522\u001b[0m            \u001b[0mself\u001b[0m\u001b[1;33m.\u001b[0m\u001b[0mdata\u001b[0m\u001b[1;33m,\u001b[0m\u001b[1;33m\u001b[0m\u001b[1;33m\u001b[0m\u001b[0m\n",
      "\u001b[1;31mKeyboardInterrupt\u001b[0m: "
     ]
    }
   ],
   "source": [
    "from sklearn.cluster import DBSCAN\n",
    "dbscan=DBSCAN(eps=0.17,min_samples=5) #eps-->maximum distance b/w clusters and \n",
    "dbscan.fit(new_df)\n",
    "np.unique(dbscan.labels_)"
   ]
  },
  {
   "cell_type": "markdown",
   "metadata": {},
   "source": [
    "classifying 13820 news into 4 categories doesn't suit for our use case"
   ]
  },
  {
   "cell_type": "code",
   "execution_count": null,
   "metadata": {},
   "outputs": [
    {
     "data": {
      "text/plain": [
       "array([0], dtype=int64)"
      ]
     },
     "execution_count": 104,
     "metadata": {},
     "output_type": "execute_result"
    }
   ],
   "source": [
    "from sklearn.cluster import DBSCAN\n",
    "dbscan=DBSCAN(eps=2,min_samples=5) #eps-->maximum distance b/w clusters and \n",
    "dbscan.fit(new_df)\n",
    "np.unique(dbscan.labels_)"
   ]
  },
  {
   "cell_type": "code",
   "execution_count": 1,
   "metadata": {},
   "outputs": [
    {
     "ename": "NameError",
     "evalue": "name 'new_df' is not defined",
     "output_type": "error",
     "traceback": [
      "\u001b[1;31m---------------------------------------------------------------------------\u001b[0m",
      "\u001b[1;31mNameError\u001b[0m                                 Traceback (most recent call last)",
      "\u001b[1;32m<ipython-input-1-8ff143656900>\u001b[0m in \u001b[0;36m<module>\u001b[1;34m\u001b[0m\n\u001b[0;32m      1\u001b[0m \u001b[1;32mfrom\u001b[0m \u001b[0msklearn\u001b[0m\u001b[1;33m.\u001b[0m\u001b[0mcluster\u001b[0m \u001b[1;32mimport\u001b[0m \u001b[0mDBSCAN\u001b[0m\u001b[1;33m\u001b[0m\u001b[1;33m\u001b[0m\u001b[0m\n\u001b[0;32m      2\u001b[0m \u001b[0mdbscan\u001b[0m\u001b[1;33m=\u001b[0m\u001b[0mDBSCAN\u001b[0m\u001b[1;33m(\u001b[0m\u001b[0meps\u001b[0m\u001b[1;33m=\u001b[0m\u001b[1;36m0.002\u001b[0m\u001b[1;33m,\u001b[0m\u001b[0mmin_samples\u001b[0m\u001b[1;33m=\u001b[0m\u001b[1;36m5\u001b[0m\u001b[1;33m)\u001b[0m \u001b[1;31m#eps-->maximum distance b/w clusters and\u001b[0m\u001b[1;33m\u001b[0m\u001b[1;33m\u001b[0m\u001b[0m\n\u001b[1;32m----> 3\u001b[1;33m \u001b[0mdbscan\u001b[0m\u001b[1;33m.\u001b[0m\u001b[0mfit\u001b[0m\u001b[1;33m(\u001b[0m\u001b[0mnew_df\u001b[0m\u001b[1;33m)\u001b[0m\u001b[1;33m\u001b[0m\u001b[1;33m\u001b[0m\u001b[0m\n\u001b[0m\u001b[0;32m      4\u001b[0m \u001b[0mnp\u001b[0m\u001b[1;33m.\u001b[0m\u001b[0munique\u001b[0m\u001b[1;33m(\u001b[0m\u001b[0mdbscan\u001b[0m\u001b[1;33m.\u001b[0m\u001b[0mlabels_\u001b[0m\u001b[1;33m)\u001b[0m\u001b[1;33m\u001b[0m\u001b[1;33m\u001b[0m\u001b[0m\n",
      "\u001b[1;31mNameError\u001b[0m: name 'new_df' is not defined"
     ]
    }
   ],
   "source": [
    "from sklearn.cluster import DBSCAN\n",
    "dbscan=DBSCAN(eps=0.002,min_samples=5) #eps-->maximum distance b/w clusters and \n",
    "dbscan.fit(new_df)\n",
    "np.unique(dbscan.labels_)"
   ]
  },
  {
   "cell_type": "code",
   "execution_count": null,
   "metadata": {},
   "outputs": [
    {
     "data": {
      "text/plain": [
       "(title          مجلس الوزرا تنكيس ال علام لمدة ثلاثة يام حدادا...\n",
       " contents       تقدم مجلس الوزرا بخالص العزا لى الملك تشارلز ا...\n",
       " category                                                 alqabas\n",
       " author_name                                           local news\n",
       " keywords       مجلس الوزرا الشعب تنكيس علام لمدة يام حدادا وف...\n",
       " Name: 14, dtype: object,\n",
       " (13820, 5))"
      ]
     },
     "execution_count": 100,
     "metadata": {},
     "output_type": "execute_result"
    }
   ],
   "source": [
    "dataset.iloc[14],dataset.shape"
   ]
  },
  {
   "cell_type": "markdown",
   "metadata": {},
   "source": [
    "# K means clustering"
   ]
  },
  {
   "cell_type": "code",
   "execution_count": null,
   "metadata": {},
   "outputs": [],
   "source": [
    "from sklearn.cluster import KMeans"
   ]
  },
  {
   "cell_type": "code",
   "execution_count": 46,
   "metadata": {},
   "outputs": [],
   "source": [
    "inertia=[]\n",
    "for no in range(1,21):\n",
    "    kmeans=KMeans(n_clusters=no).fit(new_df)\n",
    "    iner=kmeans.inertia_\n",
    "    inertia.append(iner)"
   ]
  },
  {
   "cell_type": "code",
   "execution_count": 47,
   "metadata": {},
   "outputs": [
    {
     "data": {
      "image/png": "[encoded data removed]",
      "text/plain": [
       "<Figure size 640x480 with 1 Axes>"
      ]
     },
     "metadata": {},
     "output_type": "display_data"
    }
   ],
   "source": [
    "plt.plot(range(1,21),inertia)  \n",
    "plt.title('The Elbow Method Graph')  \n",
    "plt.xlabel('Number of clusters(k)')  \n",
    "plt.ylabel('inertia')  \n",
    "plt.show()  "
   ]
  },
  {
   "cell_type": "code",
   "execution_count": 48,
   "metadata": {},
   "outputs": [
    {
     "ename": "KeyboardInterrupt",
     "evalue": "",
     "output_type": "error",
     "traceback": [
      "\u001b[1;31m---------------------------------------------------------------------------\u001b[0m",
      "\u001b[1;31mKeyboardInterrupt\u001b[0m                         Traceback (most recent call last)",
      "\u001b[1;32m<__array_function__ internals>\u001b[0m in \u001b[0;36mwhere\u001b[1;34m(*args, **kwargs)\u001b[0m\n",
      "\u001b[1;31mKeyboardInterrupt\u001b[0m: "
     ]
    },
    {
     "name": "stderr",
     "output_type": "stream",
     "text": [
      "Exception ignored in: 'sklearn.cluster._k_means_fast._relocate_empty_clusters_sparse'\n",
      "Traceback (most recent call last):\n",
      "  File \"<__array_function__ internals>\", line 2, in where\n",
      "KeyboardInterrupt: \n"
     ]
    },
    {
     "ename": "KeyboardInterrupt",
     "evalue": "",
     "output_type": "error",
     "traceback": [
      "\u001b[1;31m---------------------------------------------------------------------------\u001b[0m",
      "\u001b[1;31mKeyboardInterrupt\u001b[0m                         Traceback (most recent call last)",
      "\u001b[1;32m<__array_function__ internals>\u001b[0m in \u001b[0;36mwhere\u001b[1;34m(*args, **kwargs)\u001b[0m\n",
      "\u001b[1;31mKeyboardInterrupt\u001b[0m: "
     ]
    },
    {
     "name": "stderr",
     "output_type": "stream",
     "text": [
      "Exception ignored in: 'sklearn.cluster._k_means_fast._relocate_empty_clusters_sparse'\n",
      "Traceback (most recent call last):\n",
      "  File \"<__array_function__ internals>\", line 2, in where\n",
      "KeyboardInterrupt: \n"
     ]
    }
   ],
   "source": [
    "inertia1=[]\n",
    "for no in range(1000,1010):\n",
    "    kmeans1=KMeans(n_clusters=no).fit(new_df)\n",
    "    iner=kmeans1.inertia_\n",
    "    inertia1.append(iner)"
   ]
  },
  {
   "cell_type": "code",
   "execution_count": null,
   "metadata": {},
   "outputs": [],
   "source": []
  }
 ],
 "metadata": {
  "kernelspec": {
   "display_name": "Python 3.8.11 ('machine_learning')",
   "language": "python",
   "name": "python3"
  },
  "language_info": {
   "codemirror_mode": {
    "name": "ipython",
    "version": 3
   },
   "file_extension": ".py",
   "mimetype": "text/x-python",
   "name": "python",
   "nbconvert_exporter": "python",
   "pygments_lexer": "ipython3",
   "version": "3.8.11"
  },
  "orig_nbformat": 4,
  "vscode": {
   "interpreter": {
    "hash": "a9c62d8cf6e30c1639f8e9a0a261a530483935ac00f94e2882c1ade2d532fd4c"
   }
  }
 },
 "nbformat": 4,
 "nbformat_minor": 2
}
