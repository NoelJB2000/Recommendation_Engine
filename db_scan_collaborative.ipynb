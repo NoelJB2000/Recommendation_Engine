{
 "cells": [
  {
   "cell_type": "markdown",
   "metadata": {},
   "source": [
    "# Importing Libraries"
   ]
  },
  {
   "cell_type": "code",
   "execution_count": 143,
   "metadata": {},
   "outputs": [],
   "source": [
    "import pandas as pd\n",
    "import numpy as np "
   ]
  },
  {
   "cell_type": "markdown",
   "metadata": {},
   "source": [
    "# Preprocessing"
   ]
  },
  {
   "cell_type": "code",
   "execution_count": 173,
   "metadata": {},
   "outputs": [],
   "source": [
    "dataset=pd.read_csv(\"imdb_processed.csv\")\n",
    "# dataset.head(2)"
   ]
  },
  {
   "cell_type": "code",
   "execution_count": 174,
   "metadata": {},
   "outputs": [
    {
     "name": "stdout",
     "output_type": "stream",
     "text": [
      "<class 'pandas.core.frame.DataFrame'>\n",
      "RangeIndex: 8451 entries, 0 to 8450\n",
      "Data columns (total 14 columns):\n",
      " #   Column      Non-Null Count  Dtype  \n",
      "---  ------      --------------  -----  \n",
      " 0   Unnamed: 0  8451 non-null   int64  \n",
      " 1   title       8451 non-null   object \n",
      " 2   year        8451 non-null   float64\n",
      " 3   kind        8451 non-null   object \n",
      " 4   genre       8384 non-null   object \n",
      " 5   rating      8135 non-null   float64\n",
      " 6   vote        8135 non-null   float64\n",
      " 7   country     8152 non-null   object \n",
      " 8   language    8052 non-null   object \n",
      " 9   cast        8280 non-null   object \n",
      " 10  director    7140 non-null   object \n",
      " 11  composer    5722 non-null   object \n",
      " 12  writer      7204 non-null   object \n",
      " 13  runtime     6798 non-null   float64\n",
      "dtypes: float64(4), int64(1), object(9)\n",
      "memory usage: 924.5+ KB\n"
     ]
    }
   ],
   "source": [
    "dataset.info()"
   ]
  },
  {
   "cell_type": "code",
   "execution_count": 175,
   "metadata": {},
   "outputs": [
    {
     "data": {
      "text/html": [
       "<div>\n",
       "<style scoped>\n",
       "    .dataframe tbody tr th:only-of-type {\n",
       "        vertical-align: middle;\n",
       "    }\n",
       "\n",
       "    .dataframe tbody tr th {\n",
       "        vertical-align: top;\n",
       "    }\n",
       "\n",
       "    .dataframe thead th {\n",
       "        text-align: right;\n",
       "    }\n",
       "</style>\n",
       "<table border=\"1\" class=\"dataframe\">\n",
       "  <thead>\n",
       "    <tr style=\"text-align: right;\">\n",
       "      <th></th>\n",
       "      <th>Unnamed: 0</th>\n",
       "      <th>title</th>\n",
       "      <th>year</th>\n",
       "      <th>kind</th>\n",
       "      <th>genre</th>\n",
       "      <th>rating</th>\n",
       "      <th>vote</th>\n",
       "      <th>country</th>\n",
       "      <th>language</th>\n",
       "      <th>cast</th>\n",
       "      <th>director</th>\n",
       "      <th>composer</th>\n",
       "      <th>writer</th>\n",
       "      <th>runtime</th>\n",
       "    </tr>\n",
       "  </thead>\n",
       "  <tbody>\n",
       "    <tr>\n",
       "      <th>0</th>\n",
       "      <td>0</td>\n",
       "      <td>Dinosaur Planet</td>\n",
       "      <td>2003.0</td>\n",
       "      <td>tv mini series</td>\n",
       "      <td>['Documentary', 'Animation', 'Family']</td>\n",
       "      <td>7.7</td>\n",
       "      <td>474.0</td>\n",
       "      <td>['United States']</td>\n",
       "      <td>['English']</td>\n",
       "      <td>['Christian Slater', 'Scott Sampson']</td>\n",
       "      <td>NaN</td>\n",
       "      <td>NaN</td>\n",
       "      <td>['Mike Carrol', 'Mike Carroll', 'Georgann Kane']</td>\n",
       "      <td>50.0</td>\n",
       "    </tr>\n",
       "    <tr>\n",
       "      <th>1</th>\n",
       "      <td>1</td>\n",
       "      <td>Get Up and Dance!</td>\n",
       "      <td>1994.0</td>\n",
       "      <td>video movie</td>\n",
       "      <td>['Family']</td>\n",
       "      <td>8.1</td>\n",
       "      <td>18.0</td>\n",
       "      <td>['United States']</td>\n",
       "      <td>['English']</td>\n",
       "      <td>['Paula Abdul', 'Aurorah Allain', 'Bill Bohl',...</td>\n",
       "      <td>['Steve Purcell']</td>\n",
       "      <td>NaN</td>\n",
       "      <td>NaN</td>\n",
       "      <td>83.0</td>\n",
       "    </tr>\n",
       "    <tr>\n",
       "      <th>2</th>\n",
       "      <td>2</td>\n",
       "      <td>8 Man</td>\n",
       "      <td>1992.0</td>\n",
       "      <td>movie</td>\n",
       "      <td>['Action', 'Sci-Fi']</td>\n",
       "      <td>5.5</td>\n",
       "      <td>93.0</td>\n",
       "      <td>['Japan']</td>\n",
       "      <td>['Japanese']</td>\n",
       "      <td>['Kai Shishido', 'Etsushi Takahashi', 'Sachiko...</td>\n",
       "      <td>['Yasuhiro Horiuchi']</td>\n",
       "      <td>['Carole King']</td>\n",
       "      <td>['Kazumasa Hirai', 'Jirô Kuwata', 'Junko Suzuki']</td>\n",
       "      <td>NaN</td>\n",
       "    </tr>\n",
       "  </tbody>\n",
       "</table>\n",
       "</div>"
      ],
      "text/plain": [
       "   Unnamed: 0              title    year            kind  \\\n",
       "0           0    Dinosaur Planet  2003.0  tv mini series   \n",
       "1           1  Get Up and Dance!  1994.0     video movie   \n",
       "2           2              8 Man  1992.0           movie   \n",
       "\n",
       "                                    genre  rating   vote            country  \\\n",
       "0  ['Documentary', 'Animation', 'Family']     7.7  474.0  ['United States']   \n",
       "1                              ['Family']     8.1   18.0  ['United States']   \n",
       "2                    ['Action', 'Sci-Fi']     5.5   93.0          ['Japan']   \n",
       "\n",
       "       language                                               cast  \\\n",
       "0   ['English']              ['Christian Slater', 'Scott Sampson']   \n",
       "1   ['English']  ['Paula Abdul', 'Aurorah Allain', 'Bill Bohl',...   \n",
       "2  ['Japanese']  ['Kai Shishido', 'Etsushi Takahashi', 'Sachiko...   \n",
       "\n",
       "                director         composer  \\\n",
       "0                    NaN              NaN   \n",
       "1      ['Steve Purcell']              NaN   \n",
       "2  ['Yasuhiro Horiuchi']  ['Carole King']   \n",
       "\n",
       "                                              writer  runtime  \n",
       "0   ['Mike Carrol', 'Mike Carroll', 'Georgann Kane']     50.0  \n",
       "1                                                NaN     83.0  \n",
       "2  ['Kazumasa Hirai', 'Jirô Kuwata', 'Junko Suzuki']      NaN  "
      ]
     },
     "execution_count": 175,
     "metadata": {},
     "output_type": "execute_result"
    }
   ],
   "source": [
    "dataset.head(3)"
   ]
  },
  {
   "cell_type": "code",
   "execution_count": 177,
   "metadata": {},
   "outputs": [],
   "source": [
    "#droping all records which doesn't have rating\n",
    "dataset.drop(dataset[dataset[\"rating\"].isna()].index,inplace=True)"
   ]
  },
  {
   "cell_type": "code",
   "execution_count": 178,
   "metadata": {},
   "outputs": [],
   "source": [
    "import re\n",
    "exp=r\"'([^']*)'\"\n",
    "def joiner(data):\n",
    "    if type(data)==str:\n",
    "        result=re.findall(exp,data)\n",
    "        final=[]\n",
    "        for res in result:\n",
    "            if len(res.split(\" \"))>1:\n",
    "                final.append(\"_\".join(res.split(\" \")))\n",
    "            else:\n",
    "                final.append(res)\n",
    "        return \" \".join(final)\n",
    "    else:\n",
    "        return \" \"\n",
    "dataset[\"genre\"]=dataset[\"genre\"].apply(lambda data: joiner(data))\n",
    "dataset[\"country\"]=dataset[\"country\"].apply(lambda data: joiner(data))\n",
    "dataset[\"language\"]=dataset[\"language\"].apply(lambda data: joiner(data))\n",
    "dataset[\"cast\"]=dataset[\"cast\"].apply(lambda data: joiner(data))\n",
    "dataset[\"director\"]=dataset[\"director\"].apply(lambda data: joiner(data))\t\n",
    "dataset[\"composer\"]=dataset[\"composer\"].apply(lambda data: joiner(data))\t\n",
    "dataset[\"writer\"]=dataset[\"writer\"].apply(lambda data: joiner(data))"
   ]
  },
  {
   "cell_type": "code",
   "execution_count": 189,
   "metadata": {},
   "outputs": [],
   "source": [
    "def changer(a):\n",
    "    if (a>=8):\n",
    "        return \"good\"\n",
    "    elif (a>=5 and a<8):\n",
    "        return \"average\"\n",
    "    else:\n",
    "        return \"below_average\"\n",
    "dataset['rating']=dataset['rating'].apply(lambda a : changer(a))"
   ]
  },
  {
   "cell_type": "code",
   "execution_count": 186,
   "metadata": {},
   "outputs": [],
   "source": [
    "dataset['runtime'] = dataset['runtime'].fillna(0)"
   ]
  },
  {
   "cell_type": "code",
   "execution_count": 195,
   "metadata": {},
   "outputs": [],
   "source": [
    "def year_categorizer(a):\n",
    "    if (a>=1914 and a<=1919):\n",
    "        return \"10s\"\n",
    "    elif (a>=1920 and a<=1929):\n",
    "        return \"20s\"\n",
    "    elif (a>=1930 and a<=1939):\n",
    "        return \"30s\"\n",
    "    elif (a>=1940 and a<=1949):\n",
    "        return \"40s\"\n",
    "    elif (a>=1950 and a<=1959):\n",
    "        return \"50s\"\n",
    "    elif (a>=1960 and a<=1969):\n",
    "        return \"60s\"\n",
    "    elif (a>=1970 and a<=1979):\n",
    "        return \"70s\"\n",
    "    elif (a>=1980 and a<=1989):\n",
    "        return \"80s\"\n",
    "    elif (a>=1990 and a<=1999):\n",
    "        return \"90s\"\n",
    "    else:\n",
    "        return \"2000s\"\n",
    "dataset['year']=dataset['year'].apply(lambda a : year_categorizer(a))"
   ]
  },
  {
   "cell_type": "code",
   "execution_count": 197,
   "metadata": {},
   "outputs": [],
   "source": [
    "dataset.drop(\"vote\",axis=1,inplace=True)"
   ]
  },
  {
   "cell_type": "code",
   "execution_count": 199,
   "metadata": {},
   "outputs": [],
   "source": [
    "dataset.drop(\"Unnamed: 0\",axis=1,inplace=True)"
   ]
  }
 ],
 "metadata": {
  "kernelspec": {
   "display_name": "Python 3.8.11 ('machine_learning')",
   "language": "python",
   "name": "python3"
  },
  "language_info": {
   "codemirror_mode": {
    "name": "ipython",
    "version": 3
   },
   "file_extension": ".py",
   "mimetype": "text/x-python",
   "name": "python",
   "nbconvert_exporter": "python",
   "pygments_lexer": "ipython3",
   "version": "3.8.11"
  },
  "orig_nbformat": 4,
  "vscode": {
   "interpreter": {
    "hash": "a9c62d8cf6e30c1639f8e9a0a261a530483935ac00f94e2882c1ade2d532fd4c"
   }
  }
 },
 "nbformat": 4,
 "nbformat_minor": 2
}
